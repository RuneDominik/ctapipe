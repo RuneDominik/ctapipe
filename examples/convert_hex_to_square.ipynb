{
 "cells": [
  {
   "cell_type": "markdown",
   "metadata": {},
   "source": [
    "# Convert hexagonal cameras into square grid and back"
   ]
  },
  {
   "cell_type": "code",
   "execution_count": 1,
   "metadata": {
    "execution": {
     "iopub.execute_input": "2020-12-03T15:34:28.309504Z",
     "iopub.status.busy": "2020-12-03T15:34:28.309002Z",
     "iopub.status.idle": "2020-12-03T15:34:29.668087Z",
     "shell.execute_reply": "2020-12-03T15:34:29.668634Z"
    }
   },
   "outputs": [
    {
     "name": "stderr",
     "output_type": "stream",
     "text": [
      "/usr/local/lib/python3.8/site-packages/setuptools_scm/git.py:68: UserWarning: \"/github/workspace\" is shallow and may cause errors\n",
      "  warnings.warn('\"{}\" is shallow and may cause errors'.format(wd.path))\n"
     ]
    }
   ],
   "source": [
    "from ctapipe.utils import get_dataset_path\n",
    "from ctapipe.image.geometry_converter import convert_geometry_hex1d_to_rect2d, convert_geometry_rect2d_back_to_hexe1d\n",
    "from ctapipe.visualization import CameraDisplay\n",
    "from ctapipe.io import EventSource\n",
    "import copy\n",
    "import matplotlib.pyplot as plt"
   ]
  },
  {
   "cell_type": "markdown",
   "metadata": {},
   "source": [
    "## Setup"
   ]
  },
  {
   "cell_type": "code",
   "execution_count": 2,
   "metadata": {
    "execution": {
     "iopub.execute_input": "2020-12-03T15:34:29.672403Z",
     "iopub.status.busy": "2020-12-03T15:34:29.671996Z",
     "iopub.status.idle": "2020-12-03T15:34:29.675493Z",
     "shell.execute_reply": "2020-12-03T15:34:29.675016Z"
    }
   },
   "outputs": [],
   "source": [
    "filename = get_dataset_path('gamma_test_large.simtel.gz')"
   ]
  },
  {
   "cell_type": "code",
   "execution_count": 3,
   "metadata": {
    "execution": {
     "iopub.execute_input": "2020-12-03T15:34:29.679373Z",
     "iopub.status.busy": "2020-12-03T15:34:29.678059Z",
     "iopub.status.idle": "2020-12-03T15:34:30.415527Z",
     "shell.execute_reply": "2020-12-03T15:34:30.414559Z"
    }
   },
   "outputs": [],
   "source": [
    "source = EventSource(filename, max_events=10, allowed_tels={1})"
   ]
  },
  {
   "cell_type": "code",
   "execution_count": 4,
   "metadata": {
    "execution": {
     "iopub.execute_input": "2020-12-03T15:34:30.421878Z",
     "iopub.status.busy": "2020-12-03T15:34:30.420816Z",
     "iopub.status.idle": "2020-12-03T15:34:32.556947Z",
     "shell.execute_reply": "2020-12-03T15:34:32.556435Z"
    }
   },
   "outputs": [],
   "source": [
    "events = [copy.deepcopy(event) for event in source]"
   ]
  },
  {
   "cell_type": "code",
   "execution_count": 5,
   "metadata": {
    "execution": {
     "iopub.execute_input": "2020-12-03T15:34:32.560271Z",
     "iopub.status.busy": "2020-12-03T15:34:32.559746Z",
     "iopub.status.idle": "2020-12-03T15:34:32.563322Z",
     "shell.execute_reply": "2020-12-03T15:34:32.562898Z"
    }
   },
   "outputs": [],
   "source": [
    "event = events[0]"
   ]
  },
  {
   "cell_type": "code",
   "execution_count": 6,
   "metadata": {
    "execution": {
     "iopub.execute_input": "2020-12-03T15:34:32.774327Z",
     "iopub.status.busy": "2020-12-03T15:34:32.719577Z",
     "iopub.status.idle": "2020-12-03T15:34:32.900878Z",
     "shell.execute_reply": "2020-12-03T15:34:32.901282Z"
    }
   },
   "outputs": [
    {
     "data": {
      "text/plain": [
       "<ctapipe.visualization.mpl_camera.CameraDisplay at 0x7fd7bfbeff10>"
      ]
     },
     "execution_count": 1,
     "metadata": {},
     "output_type": "execute_result"
    }
   ],
   "source": [
    "geometry = source.subarray.tel[1].camera.geometry\n",
    "image = event.r0.tel[1].waveform[0].sum(axis=1)\n",
    "CameraDisplay(geometry, image)"
   ]
  },
  {
   "cell_type": "markdown",
   "metadata": {},
   "source": [
    "## Conversion into square geometry"
   ]
  },
  {
   "cell_type": "markdown",
   "metadata": {},
   "source": [
    "**A key must be speficied to be able to convert back to hexagonal afterwards**   \n",
    "The conversion geometry is stored in `ctapipe.image.geometry_convert.rot_buffer`"
   ]
  },
  {
   "cell_type": "code",
   "execution_count": 7,
   "metadata": {
    "execution": {
     "iopub.execute_input": "2020-12-03T15:34:32.908572Z",
     "iopub.status.busy": "2020-12-03T15:34:32.907590Z",
     "iopub.status.idle": "2020-12-03T15:34:33.326577Z",
     "shell.execute_reply": "2020-12-03T15:34:33.326951Z"
    }
   },
   "outputs": [],
   "source": [
    "key = 0\n",
    "square_geom, square_image = convert_geometry_hex1d_to_rect2d(geometry, image, key=key)"
   ]
  },
  {
   "cell_type": "code",
   "execution_count": 8,
   "metadata": {
    "execution": {
     "iopub.execute_input": "2020-12-03T15:34:33.331409Z",
     "iopub.status.busy": "2020-12-03T15:34:33.330547Z",
     "iopub.status.idle": "2020-12-03T15:34:33.336098Z",
     "shell.execute_reply": "2020-12-03T15:34:33.335678Z"
    }
   },
   "outputs": [
    {
     "data": {
      "text/plain": [
       "<matplotlib.image.AxesImage at 0x7fd7bfb42760>"
      ]
     },
     "execution_count": 1,
     "metadata": {},
     "output_type": "execute_result"
    }
   ],
   "source": [
    "plt.imshow(square_image)"
   ]
  },
  {
   "cell_type": "markdown",
   "metadata": {},
   "source": [
    "## Conversion back to hexagonal geometry"
   ]
  },
  {
   "cell_type": "code",
   "execution_count": 9,
   "metadata": {
    "execution": {
     "iopub.execute_input": "2020-12-03T15:34:33.340123Z",
     "iopub.status.busy": "2020-12-03T15:34:33.339135Z",
     "iopub.status.idle": "2020-12-03T15:34:33.343101Z",
     "shell.execute_reply": "2020-12-03T15:34:33.342582Z"
    }
   },
   "outputs": [],
   "source": [
    "hex_geom, hex_image = convert_geometry_rect2d_back_to_hexe1d(square_geom, square_image, key=key)"
   ]
  },
  {
   "cell_type": "code",
   "execution_count": 10,
   "metadata": {
    "execution": {
     "iopub.execute_input": "2020-12-03T15:34:33.610526Z",
     "iopub.status.busy": "2020-12-03T15:34:33.609638Z",
     "iopub.status.idle": "2020-12-03T15:34:33.747976Z",
     "shell.execute_reply": "2020-12-03T15:34:33.748421Z"
    }
   },
   "outputs": [
    {
     "data": {
      "text/plain": [
       "<ctapipe.visualization.mpl_camera.CameraDisplay at 0x7fd7bf94d430>"
      ]
     },
     "execution_count": 1,
     "metadata": {},
     "output_type": "execute_result"
    }
   ],
   "source": [
    "CameraDisplay(hex_geom, hex_image)"
   ]
  },
  {
   "cell_type": "markdown",
   "metadata": {},
   "source": [
    "Let's check that the images are exactly the same:"
   ]
  },
  {
   "cell_type": "code",
   "execution_count": 11,
   "metadata": {
    "execution": {
     "iopub.execute_input": "2020-12-03T15:34:33.752063Z",
     "iopub.status.busy": "2020-12-03T15:34:33.751606Z",
     "iopub.status.idle": "2020-12-03T15:34:33.755162Z",
     "shell.execute_reply": "2020-12-03T15:34:33.755611Z"
    }
   },
   "outputs": [],
   "source": [
    "assert (hex_image == image).all()"
   ]
  },
  {
   "cell_type": "code",
   "execution_count": 12,
   "metadata": {
    "execution": {
     "iopub.execute_input": "2020-12-03T15:34:33.759412Z",
     "iopub.status.busy": "2020-12-03T15:34:33.758595Z",
     "iopub.status.idle": "2020-12-03T15:34:33.761591Z",
     "shell.execute_reply": "2020-12-03T15:34:33.761971Z"
    }
   },
   "outputs": [],
   "source": [
    "assert hex_geom == geometry"
   ]
  }
 ],
 "metadata": {
  "kernelspec": {
   "display_name": "Python 3",
   "language": "python",
   "name": "python3"
  },
  "language_info": {
   "codemirror_mode": {
    "name": "ipython",
    "version": 3
   },
   "file_extension": ".py",
   "mimetype": "text/x-python",
   "name": "python",
   "nbconvert_exporter": "python",
   "pygments_lexer": "ipython3",
   "version": "3.8.2"
  }
 },
 "nbformat": 4,
 "nbformat_minor": 2
}
